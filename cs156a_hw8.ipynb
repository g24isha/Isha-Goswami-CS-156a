{
  "nbformat": 4,
  "nbformat_minor": 0,
  "metadata": {
    "colab": {
      "provenance": []
    },
    "kernelspec": {
      "name": "python3",
      "display_name": "Python 3"
    },
    "language_info": {
      "name": "python"
    }
  },
  "cells": [
    {
      "cell_type": "markdown",
      "source": [
        "Problem 2:"
      ],
      "metadata": {
        "id": "hymjXWB2co12"
      }
    },
    {
      "cell_type": "code",
      "execution_count": null,
      "metadata": {
        "colab": {
          "base_uri": "https://localhost:8080/"
        },
        "id": "d6dArOJicmIF",
        "outputId": "abb1ca48-1d2f-40f9-bb5d-7faa9cc72b03"
      },
      "outputs": [
        {
          "output_type": "stream",
          "name": "stdout",
          "text": [
            "error for  0  vs all:  0.10588396653408316 \n",
            "\n",
            "error for  2  vs all:  0.10026059525442321 \n",
            "\n",
            "error for  4  vs all:  0.08942531888629812 \n",
            "\n",
            "error for  6  vs all:  0.09107118365107669 \n",
            "\n",
            "error for  8  vs all:  0.074338225209162 \n",
            "\n"
          ]
        }
      ],
      "source": [
        "import numpy as np\n",
        "from sklearn.svm import SVC\n",
        "from sklearn.model_selection import train_test_split\n",
        "from sklearn.metrics import accuracy_score\n",
        "\n",
        "#each row is: digit, intensity, symmetry\n",
        "train = np.loadtxt('features.train')\n",
        "x_train = train[:,1:]\n",
        "digits_train = train[:,0]\n",
        "test = np.loadtxt('features.test')\n",
        "x_test = test[:,1:]\n",
        "digits_test = test[:,0]\n",
        "\n",
        "compare = [0, 2, 4, 6, 8]\n",
        "highest_ein = 0\n",
        "worst_model = None\n",
        "for digit in compare:\n",
        "    y_train = np.where(digits_train == digit, 1, -1)\n",
        "    y_test = np.where(digits_test == digit, 1, -1)\n",
        "    model = SVC(C=0.01, kernel='poly', degree=2, gamma=1.0, coef0=1.0)\n",
        "    model.fit(x_train, y_train)\n",
        "    error = 1 - model.score(x_train, y_train)\n",
        "    if error > highest_ein:\n",
        "        highest_ein = error\n",
        "        worst_model = model\n",
        "    print('error for ', digit, ' vs all: ', error, '\\n')\n"
      ]
    },
    {
      "cell_type": "markdown",
      "source": [
        "Problem 3:"
      ],
      "metadata": {
        "id": "LyLcZ0XHmFvD"
      }
    },
    {
      "cell_type": "code",
      "source": [
        "train = np.loadtxt('features.train')\n",
        "x_train = train[:,1:]\n",
        "digits_train = train[:,0]\n",
        "test = np.loadtxt('features.test')\n",
        "x_test = test[:,1:]\n",
        "digits_test = test[:,0]\n",
        "\n",
        "compare = [1, 3, 5, 7, 9]\n",
        "lowest_ein = 1\n",
        "best_model = None\n",
        "for digit in compare:\n",
        "    y_train = np.where(digits_train == digit, 1, -1)\n",
        "    y_test = np.where(digits_test == digit, 1, -1)\n",
        "    model = SVC(C=0.01, kernel='poly', degree=2, gamma=1.0, coef0=1.0)\n",
        "    model.fit(x_train, y_train)\n",
        "    error = 1 - model.score(x_train, y_train)\n",
        "    if error < lowest_ein:\n",
        "        lowest_ein = error\n",
        "        best_model = model\n",
        "    print('error for ', digit, ' vs all: ', error, '\\n')"
      ],
      "metadata": {
        "colab": {
          "base_uri": "https://localhost:8080/"
        },
        "id": "jQFbyLsZmGzZ",
        "outputId": "29c88f6e-43cf-49e3-c80f-ec1b33d84a96"
      },
      "execution_count": null,
      "outputs": [
        {
          "output_type": "stream",
          "name": "stdout",
          "text": [
            "error for  1  vs all:  0.014401316691811772 \n",
            "\n",
            "error for  3  vs all:  0.09024825126868741 \n",
            "\n",
            "error for  5  vs all:  0.07625840076807022 \n",
            "\n",
            "error for  7  vs all:  0.08846523110684401 \n",
            "\n",
            "error for  9  vs all:  0.08832807570977919 \n",
            "\n"
          ]
        }
      ]
    },
    {
      "cell_type": "markdown",
      "source": [
        "Problem 4:"
      ],
      "metadata": {
        "id": "30sqfGdum246"
      }
    },
    {
      "cell_type": "code",
      "source": [
        "difference = abs(sum(list(best_model.n_support_)) - sum(list(worst_model.n_support_)))\n",
        "print('difference in number of support vectors: ', difference)"
      ],
      "metadata": {
        "colab": {
          "base_uri": "https://localhost:8080/"
        },
        "id": "15CNl9xPm4TF",
        "outputId": "4e3a17bf-b49d-4830-8a29-fc81af757762"
      },
      "execution_count": null,
      "outputs": [
        {
          "output_type": "stream",
          "name": "stdout",
          "text": [
            "difference in number of support vectors:  1793\n"
          ]
        }
      ]
    },
    {
      "cell_type": "markdown",
      "source": [
        "Problem 5:"
      ],
      "metadata": {
        "id": "EAmOCR-pneQW"
      }
    },
    {
      "cell_type": "code",
      "source": [
        "train = np.loadtxt('features.train')\n",
        "x_train = train[:,1:]\n",
        "digits_train = train[:,0]\n",
        "test = np.loadtxt('features.test')\n",
        "x_test = test[:,1:]\n",
        "digits_test = test[:,0]\n",
        "\n",
        "C_vals = [0.001, 0.01, 0.1, 1]\n",
        "train_filter = (train[:, 0] == 1) | (train[:, 0] == 5)\n",
        "x_train = train[train_filter, 1:]\n",
        "\n",
        "y_train = np.where(train[train_filter, 0] == 1, 1, -1)\n",
        "\n",
        "\n",
        "test_filter = (test[:, 0] == 1) | (test[:, 0] == 5)\n",
        "x_test = test[test_filter, 1:]\n",
        "y_test = np.where(test[test_filter, 0] == 1, 1, -1)\n",
        "\n",
        "\n",
        "highest_ein = 0\n",
        "worst_model = None\n",
        "for val in C_vals:\n",
        "    model = SVC(C=val, kernel='poly', degree=2, gamma=1.0, coef0=1.0)\n",
        "    model.fit(x_train, y_train)\n",
        "    y_pred = model.predict(x_train)\n",
        "    in_error = 1 - model.score(x_train, y_train)\n",
        "    y_pred_out = model.predict(x_test)\n",
        "    out_error = 1 - model.score(x_test, y_test)\n",
        "    num = sum(list(model.n_support_))\n",
        "    print(\"for C =\", val, \"E_in =\", in_error, \"E_out =\", out_error, \"num support vectors =\", num, \"\\n\")"
      ],
      "metadata": {
        "colab": {
          "base_uri": "https://localhost:8080/"
        },
        "id": "bOh0DGZ7noB7",
        "outputId": "4d3f1c26-4bcf-4577-a153-6c8e766356b3"
      },
      "execution_count": null,
      "outputs": [
        {
          "output_type": "stream",
          "name": "stdout",
          "text": [
            "for C = 0.001 E_in = 0.004484304932735439 E_out = 0.01650943396226412 num support vectors = 76 \n",
            "\n",
            "for C = 0.01 E_in = 0.004484304932735439 E_out = 0.018867924528301883 num support vectors = 34 \n",
            "\n",
            "for C = 0.1 E_in = 0.004484304932735439 E_out = 0.018867924528301883 num support vectors = 24 \n",
            "\n",
            "for C = 1 E_in = 0.0032030749519538215 E_out = 0.018867924528301883 num support vectors = 24 \n",
            "\n"
          ]
        }
      ]
    },
    {
      "cell_type": "markdown",
      "source": [
        "Problem 6:"
      ],
      "metadata": {
        "id": "rIjtRA-Mp-J-"
      }
    },
    {
      "cell_type": "code",
      "source": [
        "train = np.loadtxt('features.train')\n",
        "x_train = train[:,1:]\n",
        "digits_train = train[:,0]\n",
        "test = np.loadtxt('features.test')\n",
        "x_test = test[:,1:]\n",
        "digits_test = test[:,0]\n",
        "\n",
        "C_vals = [0.0001, 0.001, 0.01, 0.1, 1]\n",
        "Q_vals = [2, 5]\n",
        "train_filter = (train[:, 0] == 1) | (train[:, 0] == 5)\n",
        "x_train = train[train_filter, 1:]\n",
        "y_train = np.where(train[train_filter, 0] == 1, 1, -1)\n",
        "\n",
        "\n",
        "test_filter = (test[:, 0] == 1) | (test[:, 0] == 5)\n",
        "x_test = test[test_filter, 1:]\n",
        "y_test = np.where(test[test_filter, 0] == 1, 1, -1)\n",
        "\n",
        "for val in C_vals:\n",
        "  for q in Q_vals:\n",
        "    model = SVC(C=val, kernel='poly', degree=q, gamma=1.0, coef0=1.0)\n",
        "    model.fit(x_train, y_train)\n",
        "    y_pred = model.predict(x_train)\n",
        "    in_error = np.sum(y_pred != y_train) / len(y_train)\n",
        "    y_pred_out = model.predict(x_test)\n",
        "    out_error = np.sum(y_pred_out != y_test) / len(y_test)\n",
        "    num = len(model.support_vectors_)\n",
        "    print(\"for C =\", val, \"and Q =\", q, \"E_in =\", in_error, \"E_out =\", out_error, \"num support vectors =\", num, \"\\n\")\n"
      ],
      "metadata": {
        "colab": {
          "base_uri": "https://localhost:8080/"
        },
        "id": "u-Nys6i4p_nY",
        "outputId": "2027379c-d798-4e87-dc44-0883d4d01b0e"
      },
      "execution_count": null,
      "outputs": [
        {
          "output_type": "stream",
          "name": "stdout",
          "text": [
            "for C = 0.0001 and Q = 2 E_in = 0.008968609865470852 E_out = 0.01650943396226415 num support vectors = 236 \n",
            "\n",
            "for C = 0.0001 and Q = 5 E_in = 0.004484304932735426 E_out = 0.018867924528301886 num support vectors = 26 \n",
            "\n",
            "for C = 0.001 and Q = 2 E_in = 0.004484304932735426 E_out = 0.01650943396226415 num support vectors = 76 \n",
            "\n",
            "for C = 0.001 and Q = 5 E_in = 0.004484304932735426 E_out = 0.02122641509433962 num support vectors = 25 \n",
            "\n",
            "for C = 0.01 and Q = 2 E_in = 0.004484304932735426 E_out = 0.018867924528301886 num support vectors = 34 \n",
            "\n",
            "for C = 0.01 and Q = 5 E_in = 0.003843689942344651 E_out = 0.02122641509433962 num support vectors = 23 \n",
            "\n",
            "for C = 0.1 and Q = 2 E_in = 0.004484304932735426 E_out = 0.018867924528301886 num support vectors = 24 \n",
            "\n",
            "for C = 0.1 and Q = 5 E_in = 0.0032030749519538757 E_out = 0.018867924528301886 num support vectors = 25 \n",
            "\n",
            "for C = 1 and Q = 2 E_in = 0.0032030749519538757 E_out = 0.018867924528301886 num support vectors = 24 \n",
            "\n",
            "for C = 1 and Q = 5 E_in = 0.0032030749519538757 E_out = 0.02122641509433962 num support vectors = 21 \n",
            "\n"
          ]
        }
      ]
    },
    {
      "cell_type": "markdown",
      "source": [
        "Problems 7 and 8:"
      ],
      "metadata": {
        "id": "gsvr4mjKd_Qi"
      }
    },
    {
      "cell_type": "code",
      "source": [
        "train = np.loadtxt('features.train')\n",
        "x_train = train[:,1:]\n",
        "digits_train = train[:,0]\n",
        "test = np.loadtxt('features.test')\n",
        "x_test = test[:,1:]\n",
        "digits_test = test[:,0]\n",
        "\n",
        "C_vals = [0.0001, 0.001, 0.01, 0.1, 1]\n",
        "chosen = defaultdict(int)\n",
        "avg_ev = defaultdict(float)\n",
        "train_filter = (train[:, 0] == 1) | (train[:, 0] == 5)\n",
        "x_train = train[train_filter, 1:]\n",
        "y_train = np.where(train[train_filter, 0] == 1, 1, -1)\n",
        "test_filter = (test[:, 0] == 1) | (test[:, 0] == 5)\n",
        "x_test = test[test_filter, 1:]\n",
        "y_test = np.where(test[test_filter, 0] == 1, 1, -1)\n",
        "minE = 1\n",
        "bestC = None\n",
        "for _ in range(100):\n",
        "  minE = 1\n",
        "  bestC = None\n",
        "  data = list(zip(x_train, y_train))\n",
        "  random.shuffle(data)\n",
        "  x_train, y_train = zip(*data)\n",
        "  for i in range(len(C_vals)):\n",
        "    model = SVC(C=C_vals[i], kernel='poly', degree=2, gamma=1.0, coef0=1.0)\n",
        "    cv_scores = cross_val_score(model, x_train, y_train, cv=10)\n",
        "    E_ev = 1 - np.mean(cv_scores)\n",
        "    avg_ev[C_vals[i]] += E_ev\n",
        "    if E_ev < minE:\n",
        "      minE = E_ev\n",
        "      bestC = C_vals[i]\n",
        "    elif E_ev == minE:\n",
        "      bestC = min(bestC, C_vals[i])\n",
        "  chosen[bestC] += 1\n",
        "max_c = max(chosen, key=chosen.get)\n",
        "print(max_c)\n",
        "print(avg_ev[max_c]/100)"
      ],
      "metadata": {
        "colab": {
          "base_uri": "https://localhost:8080/"
        },
        "id": "yQvmu7oceBEP",
        "outputId": "a5c40a59-0fb8-4c9e-9f2a-9adf60907ad7"
      },
      "execution_count": null,
      "outputs": [
        {
          "output_type": "stream",
          "name": "stdout",
          "text": [
            "0.001\n",
            "0.004733831455169013\n"
          ]
        }
      ]
    },
    {
      "cell_type": "markdown",
      "source": [
        "Problems 9 and 10:"
      ],
      "metadata": {
        "id": "9xKDCbdcnDAm"
      }
    },
    {
      "cell_type": "code",
      "source": [
        "train = np.loadtxt('features.train')\n",
        "x_train = train[:,1:]\n",
        "digits_train = train[:,0]\n",
        "test = np.loadtxt('features.test')\n",
        "x_test = test[:,1:]\n",
        "digits_test = test[:,0]\n",
        "C_vals = [0.01, 1, 100, 10**4, 10**6]\n",
        "train_filter = (train[:, 0] == 1) | (train[:, 0] == 5)\n",
        "x_train = train[train_filter, 1:]\n",
        "y_train = np.where(train[train_filter, 0] == 1, 1, -1)\n",
        "test_filter = (test[:, 0] == 1) | (test[:, 0] == 5)\n",
        "x_test = test[test_filter, 1:]\n",
        "y_test = np.where(test[test_filter, 0] == 1, 1, -1)\n",
        "minE_in = 1\n",
        "bestC_in = None\n",
        "minE_out = 1\n",
        "bestC_out = None\n",
        "for i in range(len(C_vals)):\n",
        "  model = SVC(C=C_vals[i], kernel='rbf', gamma=1.0, coef0=1.0)\n",
        "  model.fit(x_train, y_train)\n",
        "  y_pred = model.predict(x_train)\n",
        "  in_error = np.sum(y_pred != y_train) / len(y_train)\n",
        "  y_pred_out = model.predict(x_test)\n",
        "  out_error = np.sum(y_pred_out != y_test) / len(y_test)\n",
        "  if in_error < minE_in:\n",
        "    minE_in = in_error\n",
        "    bestC_in = C_vals[i]\n",
        "  if out_error < minE_out:\n",
        "    minE_out = out_error\n",
        "    bestC_out = C_vals[i]\n",
        "print(\"C for lowest E_in: \", bestC_in)\n",
        "print(\"C for lowest E_out: \", bestC_out)"
      ],
      "metadata": {
        "colab": {
          "base_uri": "https://localhost:8080/"
        },
        "id": "h-zw-794nEmH",
        "outputId": "ae0d7f4d-87e6-4fc4-c70b-2bf619f6cac5"
      },
      "execution_count": null,
      "outputs": [
        {
          "output_type": "stream",
          "name": "stdout",
          "text": [
            "C for lowest E_in:  1000000\n",
            "C for lowest E_out:  100\n"
          ]
        }
      ]
    }
  ]
}