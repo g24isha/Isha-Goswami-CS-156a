{
  "nbformat": 4,
  "nbformat_minor": 0,
  "metadata": {
    "colab": {
      "provenance": []
    },
    "kernelspec": {
      "name": "python3",
      "display_name": "Python 3"
    },
    "language_info": {
      "name": "python"
    }
  },
  "cells": [
    {
      "cell_type": "markdown",
      "source": [
        "Problem 2:"
      ],
      "metadata": {
        "id": "vFkKQo8-co83"
      }
    },
    {
      "cell_type": "code",
      "execution_count": null,
      "metadata": {
        "colab": {
          "base_uri": "https://localhost:8080/"
        },
        "id": "hSr6YNTXcinU",
        "outputId": "089cc9e6-ca8c-436a-f232-0c8a783411a0"
      },
      "outputs": [
        {
          "output_type": "stream",
          "name": "stdout",
          "text": [
            "in sample error:  0.02857142857142857\n",
            "out of sample error:  0.084\n",
            "0.004247448213519576\n",
            "0.016063648910709254\n",
            "0.012907836569230304\n",
            "0.028400919789646935\n",
            "0.026742918192848512\n"
          ]
        }
      ],
      "source": [
        "import pandas as pd\n",
        "import numpy as np\n",
        "\n",
        "def transform_points(data):\n",
        "  x1 = data[:, 0]\n",
        "  x2 = data[:, 1]\n",
        "  transformed = np.column_stack((\n",
        "      np.ones(len(x1)),\n",
        "      x1,\n",
        "      x2,\n",
        "      x1**2,\n",
        "      x2**2,\n",
        "      x1 * x2,\n",
        "      np.abs(x1 - x2),\n",
        "      np.abs(x1 + x2)\n",
        "  ))\n",
        "  return transformed\n",
        "\n",
        "def linear_regression(data, Y):\n",
        "  transpose = data.T\n",
        "  inv = np.linalg.inv(np.dot(transpose, data))\n",
        "  w = np.dot(np.dot(inv, transpose), Y)\n",
        "  return w\n",
        "\n",
        "def find_error(X, Y, w):\n",
        "  Y_pred = np.sign(np.dot(X, w))\n",
        "  return np.sum(Y_pred != Y) / len(Y)\n",
        "\n",
        "train = np.loadtxt('in.dta.txt')\n",
        "test = np.loadtxt('out.dta.txt')\n",
        "\n",
        "transformed_train = transform_points(train)\n",
        "transformed_test = transform_points(test)\n",
        "weights = linear_regression(transformed_train, train[:, 2])\n",
        "in_error = find_error(transformed_train, train[:, 2], weights)\n",
        "out_error = find_error(transformed_test, test[:, 2], weights)\n",
        "\n",
        "print(\"in sample error: \", in_error)\n",
        "print(\"out of sample error: \", out_error)\n",
        "\n",
        "final = np.array([in_error, out_error])\n",
        "option1 = np.array([0.03, 0.08])\n",
        "option2 = np.array([0.03, 0.1])\n",
        "option3 = np.array([0.04, 0.09])\n",
        "option4 = np.array([0.04, 0.11])\n",
        "option5 = np.array([0.05, 0.1])\n",
        "print(np.linalg.norm(final - option1))\n",
        "print(np.linalg.norm(final - option2))\n",
        "print(np.linalg.norm(final - option3))\n",
        "print(np.linalg.norm(final - option4))\n",
        "print(np.linalg.norm(final - option5))"
      ]
    },
    {
      "cell_type": "markdown",
      "source": [
        "Problem 3:"
      ],
      "metadata": {
        "id": "bmqkp6w5kwec"
      }
    },
    {
      "cell_type": "code",
      "source": [
        "def weight_decay(data, Y, k):\n",
        "  size = len(data[0])\n",
        "  transpose = data.T\n",
        "  inv = np.linalg.inv(np.dot(transpose, data) + (10**k)*np.eye(size))\n",
        "  w = np.dot(np.dot(inv, transpose), Y)\n",
        "  return w\n",
        "\n",
        "\n",
        "train = np.loadtxt('in.dta.txt')\n",
        "test = np.loadtxt('out.dta.txt')\n",
        "\n",
        "transformed_train = transform_points(train)\n",
        "transformed_test = transform_points(test)\n",
        "weights = weight_decay(transformed_train, train[:, 2], -3)\n",
        "in_error = find_error(transformed_train, train[:, 2], weights)\n",
        "out_error = find_error(transformed_test, test[:, 2], weights)\n",
        "\n",
        "print(\"in sample error: \", in_error)\n",
        "print(\"out of sample error: \", out_error)\n",
        "\n",
        "final = np.array([in_error, out_error])\n",
        "option1 = np.array([0.01, 0.02])\n",
        "option2 = np.array([0.02, 0.04])\n",
        "option3 = np.array([0.02, 0.06])\n",
        "option4 = np.array([0.03, 0.08])\n",
        "option5 = np.array([0.03, 0.1])\n",
        "print(np.linalg.norm(final - option1))\n",
        "print(np.linalg.norm(final - option2))\n",
        "print(np.linalg.norm(final - option3))\n",
        "print(np.linalg.norm(final - option4))\n",
        "print(np.linalg.norm(final - option5))"
      ],
      "metadata": {
        "colab": {
          "base_uri": "https://localhost:8080/"
        },
        "id": "2rNjVAVakxbN",
        "outputId": "907c7091-1aff-49da-ccb0-da3e0f1aad0c"
      },
      "execution_count": null,
      "outputs": [
        {
          "output_type": "stream",
          "name": "stdout",
          "text": [
            "in sample error:  0.02857142857142857\n",
            "out of sample error:  0.08\n",
            "0.06280842267708746\n",
            "0.04090806018078958\n",
            "0.021759351731039742\n",
            "0.0014285714285714284\n",
            "0.020050955496597432\n"
          ]
        }
      ]
    },
    {
      "cell_type": "markdown",
      "source": [
        "Problem 4:"
      ],
      "metadata": {
        "id": "wRXgbQytnKqJ"
      }
    },
    {
      "cell_type": "code",
      "source": [
        "train = np.loadtxt('in.dta.txt')\n",
        "test = np.loadtxt('out.dta.txt')\n",
        "\n",
        "transformed_train = transform_points(train)\n",
        "transformed_test = transform_points(test)\n",
        "weights = weight_decay(transformed_train, train[:, 2], 3)\n",
        "in_error = find_error(transformed_train, train[:, 2], weights)\n",
        "out_error = find_error(transformed_test, test[:, 2], weights)\n",
        "\n",
        "print(\"in sample error: \", in_error)\n",
        "print(\"out of sample error: \", out_error)\n",
        "\n",
        "final = np.array([in_error, out_error])\n",
        "option1 = np.array([0.2, 0.2])\n",
        "option2 = np.array([0.2, 0.3])\n",
        "option3 = np.array([0.3, 0.3])\n",
        "option4 = np.array([0.3, 0.4])\n",
        "option5 = np.array([0.4, 0.4])\n",
        "print(np.linalg.norm(final - option1))\n",
        "print(np.linalg.norm(final - option2))\n",
        "print(np.linalg.norm(final - option3))\n",
        "print(np.linalg.norm(final - option4))\n",
        "print(np.linalg.norm(final - option5))"
      ],
      "metadata": {
        "colab": {
          "base_uri": "https://localhost:8080/"
        },
        "id": "WF4jx_btnL01",
        "outputId": "7e92a6ca-7d54-4aa5-9408-61b88f828247"
      },
      "execution_count": null,
      "outputs": [
        {
          "output_type": "stream",
          "name": "stdout",
          "text": [
            "in sample error:  0.37142857142857144\n",
            "out of sample error:  0.436\n",
            "0.29169119819089645\n",
            "0.21882357071860614\n",
            "0.1536165382253048\n",
            "0.07998775416478783\n",
            "0.04596005364022374\n"
          ]
        }
      ]
    },
    {
      "cell_type": "markdown",
      "source": [
        "Problem 5:"
      ],
      "metadata": {
        "id": "s1Mvp64wngu6"
      }
    },
    {
      "cell_type": "code",
      "source": [
        "train = np.loadtxt('in.dta.txt')\n",
        "test = np.loadtxt('out.dta.txt')\n",
        "\n",
        "transformed_train = transform_points(train)\n",
        "transformed_test = transform_points(test)\n",
        "\n",
        "weights1 = weight_decay(transformed_train, train[:, 2], 2)\n",
        "out1_error = find_error(transformed_test, test[:, 2], weights1)\n",
        "\n",
        "weights2 = weight_decay(transformed_train, train[:, 2], 1)\n",
        "out2_error = find_error(transformed_test, test[:, 2], weights2)\n",
        "\n",
        "weights3 = weight_decay(transformed_train, train[:, 2], 0)\n",
        "out3_error = find_error(transformed_test, test[:, 2], weights3)\n",
        "\n",
        "weights4 = weight_decay(transformed_train, train[:, 2], -1)\n",
        "out4_error = find_error(transformed_test, test[:, 2], weights4)\n",
        "\n",
        "weights5 = weight_decay(transformed_train, train[:, 2], -2)\n",
        "out5_error = find_error(transformed_test, test[:, 2], weights5)\n",
        "\n",
        "print(\"k = 2: \", out1_error)\n",
        "print(\"k = 1: \", out2_error)\n",
        "print(\"k = 0: \", out3_error)\n",
        "print(\"k = -1: \", out4_error)\n",
        "print(\"k = -2: \", out5_error)"
      ],
      "metadata": {
        "colab": {
          "base_uri": "https://localhost:8080/"
        },
        "id": "ZYUOUkOxnh0O",
        "outputId": "e175715a-0881-4879-bb67-9649f6702cd5"
      },
      "execution_count": null,
      "outputs": [
        {
          "output_type": "stream",
          "name": "stdout",
          "text": [
            "k = 2:  0.228\n",
            "k = 1:  0.124\n",
            "k = 0:  0.092\n",
            "k = -1:  0.056\n",
            "k = -2:  0.084\n"
          ]
        }
      ]
    },
    {
      "cell_type": "markdown",
      "source": [
        "Problem 6:"
      ],
      "metadata": {
        "id": "vY4dm0r-oUHP"
      }
    },
    {
      "cell_type": "code",
      "source": [
        "train = np.loadtxt('in.dta.txt')\n",
        "test = np.loadtxt('out.dta.txt')\n",
        "\n",
        "transformed_train = transform_points(train)\n",
        "transformed_test = transform_points(test)\n",
        "\n",
        "min_error = 10**100\n",
        "min_k = -1001\n",
        "\n",
        "#test all integer values of k\n",
        "#when k is larger than 20, (X^T)X + lambda*Y is not invertible\n",
        "for i in range(-1000, 20):\n",
        "  weights = weight_decay(transformed_train, train[:, 2], i)\n",
        "  error = find_error(transformed_test, test[:, 2], weights)\n",
        "  if error < min_error:\n",
        "    min_error = error\n",
        "    min_k = i\n",
        "\n",
        "print(\"min error: \", min_error)\n",
        "print(\"min k: \", min_k)"
      ],
      "metadata": {
        "colab": {
          "base_uri": "https://localhost:8080/"
        },
        "id": "TCxjHDO6oVB6",
        "outputId": "31c42a45-64e2-4cfa-ed6a-a4b304849027"
      },
      "execution_count": null,
      "outputs": [
        {
          "output_type": "stream",
          "name": "stdout",
          "text": [
            "min error:  0.056\n",
            "min k:  -1\n"
          ]
        }
      ]
    },
    {
      "cell_type": "markdown",
      "source": [
        "Problem 10:"
      ],
      "metadata": {
        "id": "tUVKK0RcYX0a"
      }
    },
    {
      "cell_type": "code",
      "source": [
        "def find_total(cur_total, num_hidden_nodes, prev_layer, curMax, nodes, best):\n",
        "    if num_hidden_nodes == 0:\n",
        "      if cur_total + prev_layer > curMax:\n",
        "            curMax = cur_total + prev_layer\n",
        "            best.clear()\n",
        "            best.extend(nodes)\n",
        "      return curMax\n",
        "\n",
        "    for i in range(2, num_hidden_nodes + 1):\n",
        "        num_hidden_nodes -= i\n",
        "        new_total = cur_total + (prev_layer) * (i - 1)\n",
        "        nodes.append(i)\n",
        "        curMax = find_total(new_total, num_hidden_nodes, i, curMax, nodes, best)\n",
        "        num_hidden_nodes += i\n",
        "        nodes.pop()\n",
        "\n",
        "    return curMax\n",
        "nodes = [10]\n",
        "best = []\n",
        "max_total = find_total(0, 36, 10, 0, nodes, best)\n",
        "print(max_total)\n",
        "print(best)"
      ],
      "metadata": {
        "colab": {
          "base_uri": "https://localhost:8080/"
        },
        "id": "tOHGfJGcYY-r",
        "outputId": "7b0db97e-6ce4-47a0-980b-890ee9752020"
      },
      "execution_count": null,
      "outputs": [
        {
          "output_type": "stream",
          "name": "stdout",
          "text": [
            "510\n",
            "[10, 22, 14]\n"
          ]
        }
      ]
    }
  ]
}