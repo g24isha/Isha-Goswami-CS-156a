{
  "nbformat": 4,
  "nbformat_minor": 0,
  "metadata": {
    "colab": {
      "provenance": []
    },
    "kernelspec": {
      "name": "python3",
      "display_name": "Python 3"
    },
    "language_info": {
      "name": "python"
    }
  },
  "cells": [
    {
      "cell_type": "markdown",
      "source": [
        "Problem 5:\n"
      ],
      "metadata": {
        "id": "kAjrg8nac99p"
      }
    },
    {
      "cell_type": "code",
      "source": [
        "import numpy as np\n",
        "import random\n",
        "import math\n",
        "\n",
        "def error(u, v):\n",
        "  return (u*np.exp(v) - 2*v*np.exp(-u))**2\n",
        "\n",
        "def grad_u(u, v):\n",
        "  return 2*(u*np.exp(v) - 2*v*np.exp(-u))*(np.exp(v) + 2*v*np.exp(-u))\n",
        "\n",
        "def grad_v(u, v):\n",
        "  return 2*(u*np.exp(v) - 2*v*np.exp(-u))*(u*np.exp(v) - 2*np.exp(-u))\n",
        "\n",
        "def gd(u, v):\n",
        "  epochs = 0\n",
        "  error_val = error(u, v)\n",
        "  while error_val > 10**(-14):\n",
        "    epochs += 1\n",
        "    u_new = u - 0.1*grad_u(u, v)\n",
        "    v_new = v - 0.1*grad_v(u, v)\n",
        "    u = u_new\n",
        "    v = v_new\n",
        "    error_val = error(u, v)\n",
        "\n",
        "  return u, v, epochs\n",
        "\n",
        "u, v, epochs = gd(1.0, 1.0)\n",
        "print(u)\n",
        "print(v)\n",
        "print(epochs)"
      ],
      "metadata": {
        "colab": {
          "base_uri": "https://localhost:8080/"
        },
        "id": "v2oFr2N-dAgg",
        "outputId": "828b668c-8430-4791-cf2a-dd52c14a8ffe"
      },
      "execution_count": null,
      "outputs": [
        {
          "output_type": "stream",
          "name": "stdout",
          "text": [
            "0.04473629039778207\n",
            "0.023958714099141746\n",
            "10\n"
          ]
        }
      ]
    },
    {
      "cell_type": "markdown",
      "source": [
        "Problem 6:"
      ],
      "metadata": {
        "id": "222f0mGokdX1"
      }
    },
    {
      "cell_type": "code",
      "source": [
        "final = np.array([u, v])\n",
        "option1 = np.array([1.0, 1.0])\n",
        "option2 = np.array([0.713, 0.045])\n",
        "option3 = np.array([0.016, 0.112])\n",
        "option4 = np.array([-0.083, 0.029])\n",
        "option5 = np.array([0.045, 0.024])\n",
        "print(np.linalg.norm(final - option1))\n",
        "print(np.linalg.norm(final - option2))\n",
        "print(np.linalg.norm(final - option3))\n",
        "print(np.linalg.norm(final - option4))\n",
        "print(np.linalg.norm(final - option5))\n"
      ],
      "metadata": {
        "colab": {
          "base_uri": "https://localhost:8080/"
        },
        "id": "UZ3RqmRrkfHU",
        "outputId": "42f4f922-5acf-4e19-866e-9389339ed022"
      },
      "execution_count": null,
      "outputs": [
        {
          "output_type": "stream",
          "name": "stdout",
          "text": [
            "1.365717886924672\n",
            "0.6685948857743971\n",
            "0.0926123232021653\n",
            "0.12783573228217807\n",
            "0.0002669218610597792\n"
          ]
        }
      ]
    },
    {
      "cell_type": "markdown",
      "source": [
        "Problem 7:"
      ],
      "metadata": {
        "id": "pzoQEA_N9wXg"
      }
    },
    {
      "cell_type": "code",
      "source": [
        "def cd(u, v):\n",
        "  epochs = 0\n",
        "  error_val = error(u, v)\n",
        "  while epochs < 30:\n",
        "    if epochs % 2 == 0:\n",
        "      u_new = u - 0.1*grad_u(u, v)\n",
        "      u = u_new\n",
        "    else:\n",
        "      v_new = v - 0.1*grad_v(u, v)\n",
        "      v = v_new\n",
        "    error_val = error(u, v)\n",
        "    epochs += 1\n",
        "  return error_val\n",
        "\n",
        "print(cd(1.0, 1.0))"
      ],
      "metadata": {
        "colab": {
          "base_uri": "https://localhost:8080/"
        },
        "id": "I9UwQFkd9xqO",
        "outputId": "3ff44b98-e5d8-4334-8991-e8d9be8c4edc"
      },
      "execution_count": null,
      "outputs": [
        {
          "output_type": "stream",
          "name": "stdout",
          "text": [
            "0.13981379199615315\n"
          ]
        }
      ]
    },
    {
      "cell_type": "markdown",
      "source": [
        "Problem 8 and 9:"
      ],
      "metadata": {
        "id": "2duG9idLS7x-"
      }
    },
    {
      "cell_type": "code",
      "execution_count": null,
      "metadata": {
        "colab": {
          "base_uri": "https://localhost:8080/"
        },
        "id": "ZKflDb0Ol1JB",
        "outputId": "3b4b0e6e-8677-4e68-af59-7c9cf91a4ff5"
      },
      "outputs": [
        {
          "output_type": "stream",
          "name": "stdout",
          "text": [
            "average e_out:  0.10384674061775277\n",
            "average epochs:  343.91\n"
          ]
        }
      ],
      "source": [
        "def classify_point(point, m, b):\n",
        "    x, y = point\n",
        "    if y > m * x + b:\n",
        "      return 1\n",
        "    return -1\n",
        "\n",
        "def rand_func():\n",
        "  x1 = random.uniform(-1.0, 1.0)\n",
        "  x2 = random.uniform(-1.0, 1.0)\n",
        "  y1 = random.uniform(-1.0, 1.0)\n",
        "  y2 = random.uniform(-1.0, 1.0)\n",
        "  m = (y2 - y1) / (x2 - x1)\n",
        "  b = y1 - m * x1\n",
        "  return m, b\n",
        "\n",
        "def create_points(m, b, num):\n",
        "  X = []\n",
        "  Y = []\n",
        "  X = np.random.uniform(-1.0, 1.0, (num, 2))\n",
        "  Y = np.array([classify_point(point, m, b) for point in X])\n",
        "  return X, Y\n",
        "\n",
        "def lg_sgd(X, Y):\n",
        "  epochs = 0\n",
        "  weights = np.array([0.0, 0.0, 0.0])\n",
        "  difference = 1000\n",
        "  while difference >= 0.01:\n",
        "    epochs += 1\n",
        "    e_in = np.array([0.0, 0.0, 0.0])\n",
        "    indices = list(range(X.shape[0]))\n",
        "    random.shuffle(indices)\n",
        "    for i in indices:\n",
        "      x = X[i]\n",
        "      y = Y[i]\n",
        "      dot_product = np.dot(weights, x)\n",
        "      result = (y * x) / (1 + np.exp(y * dot_product))\n",
        "      e_in -= result\n",
        "    new_weights = weights - 0.01*e_in\n",
        "    difference = np.linalg.norm(weights - new_weights)\n",
        "    weights = new_weights\n",
        "\n",
        "  return weights, epochs\n",
        "\n",
        "def calc_error(weights, x_test, y_test):\n",
        "  error_total = 0\n",
        "  for i in range(len(x_test)):\n",
        "    dot = -y_test[i]*np.dot(weights, x_test[i])\n",
        "    error_total += math.log(1 + math.exp(dot))\n",
        "  return error_total / len(x_test)\n",
        "\n",
        "\n",
        "runs = 100\n",
        "total_epochs = 0\n",
        "total_error = 0\n",
        "for _ in range(runs):\n",
        "  m, b = rand_func()\n",
        "  X, Y = create_points(m, b, 100)\n",
        "  X_with_bias = np.hstack((np.ones((X.shape[0], 1)), X))\n",
        "  weights, epochs = lg_sgd(X_with_bias, Y)\n",
        "  total_epochs += epochs\n",
        "  x_test, y_test = create_points(m, b, 1000)\n",
        "  X_test_bias = np.hstack((np.ones((x_test.shape[0], 1)), x_test))\n",
        "  total_error += calc_error(weights, X_test_bias, y_test)\n",
        "\n",
        "print(\"average e_out: \", total_error/100)\n",
        "print(\"average epochs: \", total_epochs/100)"
      ]
    }
  ]
}