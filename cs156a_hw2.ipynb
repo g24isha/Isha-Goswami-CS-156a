{
  "nbformat": 4,
  "nbformat_minor": 0,
  "metadata": {
    "colab": {
      "provenance": []
    },
    "kernelspec": {
      "name": "python3",
      "display_name": "Python 3"
    },
    "language_info": {
      "name": "python"
    }
  },
  "cells": [
    {
      "cell_type": "markdown",
      "source": [
        "Problem 1:"
      ],
      "metadata": {
        "id": "oDS_vbtLXtuy"
      }
    },
    {
      "cell_type": "code",
      "execution_count": null,
      "metadata": {
        "colab": {
          "base_uri": "https://localhost:8080/"
        },
        "id": "NbzZ31_V2uCD",
        "outputId": "a4421a93-25b4-49ee-8dbd-febf1e32bd96"
      },
      "outputs": [
        {
          "output_type": "stream",
          "name": "stdout",
          "text": [
            "v min:  0.037748\n",
            "v rand:  0.49979399999999996\n",
            "v 1:  0.5003019999999999\n"
          ]
        }
      ],
      "source": [
        "import numpy as np\n",
        "def flip_coins():\n",
        "    flips = np.random.randint(0, 2, 10)\n",
        "    return np.mean(flips)\n",
        "\n",
        "def experiment():\n",
        "  proportions = np.random.randint(0, 2, (1000, 10)).mean(axis=1)\n",
        "  first_coin = proportions[0]\n",
        "  rand_coin = proportions[np.random.randint(0, 1000)]\n",
        "  min_coin = proportions.min()\n",
        "  return first_coin, rand_coin, min_coin\n",
        "\n",
        "results = np.array([experiment() for _ in range(100000)])\n",
        "firsts = results[:, 0]\n",
        "randoms = results[:, 1]\n",
        "mins = results[:, 2]\n",
        "print(\"v min: \", np.mean(mins))\n",
        "print(\"v rand: \", np.mean(randoms))\n",
        "print(\"v 1: \", np.mean(firsts))"
      ]
    },
    {
      "cell_type": "markdown",
      "source": [
        "Problem 2:"
      ],
      "metadata": {
        "id": "5PFaELLoXwEg"
      }
    },
    {
      "cell_type": "code",
      "source": [
        "#choose epsilon = 0.2, so lower bound is 0.3 and upper bound is 0.7\n",
        "count1 = np.sum((firsts < 0.3) | (firsts > 0.7))\n",
        "count2 = np.sum((randoms < 0.3) | (randoms > 0.7))\n",
        "count3 = np.sum((mins < 0.3) | (mins > 0.7))\n",
        "\n",
        "print(\"P[|v1 - u| > e]: \", count1 / 100000)\n",
        "print(\"P[|vrand - u| > e]: \", count2 / 100000)\n",
        "print(\"P[|vmin - u| > e]: \", count3 / 100000)"
      ],
      "metadata": {
        "colab": {
          "base_uri": "https://localhost:8080/"
        },
        "id": "XNRQ3Nl7kn0W",
        "outputId": "874a626d-31ad-432c-e6df-bdfd28e02409"
      },
      "execution_count": null,
      "outputs": [
        {
          "output_type": "stream",
          "name": "stdout",
          "text": [
            "P[|v1 - u| > e]:  0.11058\n",
            "P[|vrand - u| > e]:  0.1093\n",
            "P[|vmin - u| > e]:  1.0\n"
          ]
        }
      ]
    },
    {
      "cell_type": "markdown",
      "source": [
        "Problem 5:"
      ],
      "metadata": {
        "id": "o7D_Re9_X0fb"
      }
    },
    {
      "cell_type": "code",
      "source": [
        "import random\n",
        "import numpy as np\n",
        "\n",
        "N = 100\n",
        "\n",
        "def rand_func():\n",
        "  x1 = random.uniform(-1.0, 1.0)\n",
        "  x2 = random.uniform(-1.0, 1.0)\n",
        "  y1 = random.uniform(-1.0, 1.0)\n",
        "  y2 = random.uniform(-1.0, 1.0)\n",
        "  m = (y2 - y1) / (x2 - x1)\n",
        "  b = y1 - m * x1\n",
        "  return m, b\n",
        "\n",
        "def classify_point(point, m, b):\n",
        "    x, y = point\n",
        "    if y > m * x + b:\n",
        "      return 1\n",
        "    if y == m * x + b:\n",
        "      return 0\n",
        "    return -1\n",
        "\n",
        "def create_points():\n",
        "  m, b = rand_func()\n",
        "  X = []\n",
        "  Y = []\n",
        "  X = np.random.uniform(-1.0, 1.0, (N, 2))\n",
        "  Y = np.array([classify_point(point, m, b) for point in X])\n",
        "  return [m, b], X, Y\n",
        "\n",
        "def find_error(X, Y, w):\n",
        "  Y_pred = np.sign(np.dot(X, w))\n",
        "  return np.sum(Y_pred != Y) / len(Y)\n",
        "\n",
        "f = []\n",
        "g = []\n",
        "errors = []\n",
        "for _ in range(1000):\n",
        "  [m, b], X, Y = create_points()\n",
        "  f.append([m, b])\n",
        "  X_with_bias = np.hstack((np.ones((X.shape[0], 1)), X))\n",
        "  x_transpose = X_with_bias.T\n",
        "  inv = np.linalg.inv(np.dot(x_transpose, X_with_bias))\n",
        "  w = np.dot(np.dot(inv, x_transpose), Y)\n",
        "  g.append(w)\n",
        "  errors.append(find_error(X_with_bias, Y, w))\n",
        "\n",
        "print(sum(errors) / len(errors))"
      ],
      "metadata": {
        "colab": {
          "base_uri": "https://localhost:8080/"
        },
        "id": "7vkYHcLYv00i",
        "outputId": "d62c07b5-e492-494b-d149-a084670c7c9c"
      },
      "execution_count": null,
      "outputs": [
        {
          "output_type": "stream",
          "name": "stdout",
          "text": [
            "0.03801000000000004\n"
          ]
        }
      ]
    },
    {
      "cell_type": "markdown",
      "source": [
        "Problem 6:"
      ],
      "metadata": {
        "id": "ncWD9Z-IxEvx"
      }
    },
    {
      "cell_type": "code",
      "source": [
        "def create_test_points(m, b):\n",
        "  X = np.random.uniform(-1.0, 1.0, (1000, 2))\n",
        "  Y = np.array([classify_point(point, m, b) for point in X])\n",
        "  return X, Y\n",
        "\n",
        "misclassified = 0\n",
        "errors_out = []\n",
        "for i in range(1000):\n",
        "  X_test, y_g = create_test_points(g[i][0], g[i][1])\n",
        "  y_actual = np.array([classify_point(point, f[i][0], f[i][1]) for point in X_test])\n",
        "  X_test_with_bias = np.hstack((np.ones((X_test.shape[0], 1)), X_test))\n",
        "  errors_out.append(find_error(X_test_with_bias, y_actual, g[i]))\n",
        "\n",
        "print(sum(errors) / len(errors))"
      ],
      "metadata": {
        "colab": {
          "base_uri": "https://localhost:8080/"
        },
        "id": "_Puq12LNMoD4",
        "outputId": "d2eae629-4e6e-480c-b78c-60b68243b205"
      },
      "execution_count": null,
      "outputs": [
        {
          "output_type": "stream",
          "name": "stdout",
          "text": [
            "0.03801000000000004\n"
          ]
        }
      ]
    },
    {
      "cell_type": "markdown",
      "source": [
        "Problem 7:"
      ],
      "metadata": {
        "id": "ZuObCcjFX6YA"
      }
    },
    {
      "cell_type": "code",
      "source": [
        "def create_PLA_points():\n",
        "  m, b = rand_func()\n",
        "  X = []\n",
        "  Y = []\n",
        "  X = np.random.uniform(-1.0, 1.0, (10, 2))\n",
        "  Y = np.array([classify_point(point, m, b) for point in X])\n",
        "  return X, Y\n",
        "\n",
        "def PLA(weights, X, Y):\n",
        "  iterations = 0\n",
        "  while iterations < 10000:\n",
        "    misclassified = []\n",
        "    for i, point in enumerate(X):\n",
        "      if np.sign(np.dot(weights[1:], point) + weights[0]) != Y[i]:\n",
        "        misclassified.append(i)\n",
        "\n",
        "    if len(misclassified) == 0:\n",
        "      break\n",
        "\n",
        "    idx = np.random.choice(misclassified)\n",
        "    weights[0] += Y[idx]\n",
        "    weights[1:] += Y[idx] * X[idx]\n",
        "    iterations += 1\n",
        "  return iterations\n",
        "\n",
        "total_iterations = 0\n",
        "\n",
        "for _ in range(1000):\n",
        "  x_train, y_train = create_PLA_points()\n",
        "  x_train_bias = np.hstack((np.ones((x_train.shape[0], 1)), x_train))\n",
        "  x_transpose = x_train_bias.T\n",
        "  inv = np.linalg.inv(np.dot(x_transpose, x_train_bias))\n",
        "  w = np.dot(np.dot(inv, x_transpose), y_train)\n",
        "  total_iterations += PLA(w, x_train, y_train)\n",
        "\n",
        "print(total_iterations / 1000)"
      ],
      "metadata": {
        "colab": {
          "base_uri": "https://localhost:8080/"
        },
        "id": "BP1uj44xRwmR",
        "outputId": "ee986101-5322-4c46-e3bb-4c8dc3bb464b"
      },
      "execution_count": null,
      "outputs": [
        {
          "output_type": "stream",
          "name": "stdout",
          "text": [
            "3.568\n"
          ]
        }
      ]
    },
    {
      "cell_type": "markdown",
      "source": [
        "Problem 8:"
      ],
      "metadata": {
        "id": "ra9eoT677xr9"
      }
    },
    {
      "cell_type": "code",
      "source": [
        "def classify_nonlinear(point):\n",
        "  x1 = point[0]\n",
        "  x2 = point[1]\n",
        "  val = x1**2 + x2**2 - 0.6\n",
        "  if val == 0:\n",
        "    return 0\n",
        "  elif val < 0:\n",
        "    return -1\n",
        "  return 1\n",
        "\n",
        "def create_nonlinear_points():\n",
        "  X = []\n",
        "  Y = []\n",
        "  X = np.random.uniform(-1.0, 1.0, (1000, 2))\n",
        "  Y = np.array([classify_nonlinear(point) for point in X])\n",
        "  random_indices = np.random.choice(np.arange(1000), size=100, replace=False)\n",
        "  for i in random_indices:\n",
        "    Y[i] *= -1\n",
        "  return X, Y\n",
        "\n",
        "nonlinear_errors = []\n",
        "for _ in range(1000):\n",
        "  X, Y = create_nonlinear_points()\n",
        "  X_with_bias = np.hstack((np.ones((X.shape[0], 1)), X))\n",
        "  x_transpose = X_with_bias.T\n",
        "  inv = np.linalg.inv(np.dot(x_transpose, X_with_bias))\n",
        "  w = np.dot(np.dot(inv, x_transpose), Y)\n",
        "  nonlinear_errors.append(find_error(X_with_bias, Y, w))\n",
        "\n",
        "print(sum(nonlinear_errors) / len(nonlinear_errors))"
      ],
      "metadata": {
        "colab": {
          "base_uri": "https://localhost:8080/"
        },
        "id": "vOUoI7S57zkK",
        "outputId": "374453dc-d81a-41f4-ad96-ad862eb3f18c"
      },
      "execution_count": null,
      "outputs": [
        {
          "output_type": "stream",
          "name": "stdout",
          "text": [
            "0.5036800000000006\n"
          ]
        }
      ]
    },
    {
      "cell_type": "markdown",
      "source": [
        "Problem 9:"
      ],
      "metadata": {
        "id": "WC6AsJKNgCjC"
      }
    },
    {
      "cell_type": "code",
      "source": [
        "def create_transform_points():\n",
        "  X = []\n",
        "  Y = []\n",
        "  X = np.random.uniform(-1.0, 1.0, (1000, 2))\n",
        "  Y = np.array([classify_nonlinear(point) for point in X])\n",
        "  noise_indices = np.random.choice(len(Y), 100, replace=False)\n",
        "  Y[noise_indices] = -Y[noise_indices]\n",
        "  x1 = X[:, 0]\n",
        "  x2 = X[:, 1]\n",
        "  bias = np.ones(X.shape[0])\n",
        "  X_transformed = np.column_stack((bias, x1, x2, x1 * x2, x1 ** 2, x2 ** 2))\n",
        "  return X, X_transformed, Y\n",
        "\n",
        "def check_agreement(point, h):\n",
        "  x1 = point[0]\n",
        "  x2 = point[1]\n",
        "  return np.sign(h[0] + x1 *h[1] + x2 *h[2] + x1*x2*h[3] + h[4] * x1**2 + h[5] * x2**2)\n",
        "\n",
        "\n",
        "#now we want to see over 1000 runs, average probability\n",
        "h1_agree = 0\n",
        "h2_agree = 0\n",
        "h3_agree = 0\n",
        "h4_agree = 0\n",
        "h5_agree = 0\n",
        "\n",
        "h1 = np.array([-1, -0.05, 0.08, 0.13, 1.5, 1.5])\n",
        "h2 = np.array([-1, -0.05, 0.08, 0.13, 1.5, 15])\n",
        "h3 = np.array([-1, -0.05, 0.08, 0.13, 15, 1.5])\n",
        "h4 = np.array([-1, -1.5, 0.08, 0.13, 0.05, 0.05])\n",
        "h5 = np.array([-1, -0.05, 0.08, 1.5, 0.15, 0.15])\n",
        "\n",
        "print(w)\n",
        "X_before, X, Y = create_transform_points()\n",
        "x_transpose = X.T\n",
        "inv = np.linalg.inv(np.dot(x_transpose, X))\n",
        "w = np.dot(np.dot(inv, x_transpose), Y)\n",
        "\n",
        "for _ in range(1000):\n",
        "  x1 = np.random.uniform(-1.0, 1.0)\n",
        "  x2 = np.random.uniform(-1.0, 1.0)\n",
        "  w_sign =  check_agreement([x1, x2], w)\n",
        "  if check_agreement([x1, x2], h1) == w_sign:\n",
        "    h1_agree += 1\n",
        "  if check_agreement([x1, x2], h2) == w_sign:\n",
        "    h2_agree += 1\n",
        "  if check_agreement([x1, x2], h3) == w_sign:\n",
        "    h3_agree += 1\n",
        "  if check_agreement([x1, x2], h4) == w_sign:\n",
        "    h4_agree += 1\n",
        "  if check_agreement([x1, x2], h5) == w_sign:\n",
        "    h5_agree += 1\n",
        "\n",
        "print(\"hypothesis 1: \", h1_agree/1000)\n",
        "print(\"hypothesis 2: \", h2_agree/1000)\n",
        "print(\"hypothesis 3: \", h3_agree/1000)\n",
        "print(\"hypothesis 4: \", h4_agree/1000)\n",
        "print(\"hypothesis 5: \", h5_agree/1000)"
      ],
      "metadata": {
        "colab": {
          "base_uri": "https://localhost:8080/"
        },
        "id": "AGIadprcgDxK",
        "outputId": "67ed3be3-cc1b-46d6-e524-9a8d2e484bb7"
      },
      "execution_count": null,
      "outputs": [
        {
          "output_type": "stream",
          "name": "stdout",
          "text": [
            "[0.06570125 0.02862171 0.03411385]\n",
            "hypothesis 1:  0.948\n",
            "hypothesis 2:  0.674\n",
            "hypothesis 3:  0.68\n",
            "hypothesis 4:  0.625\n",
            "hypothesis 5:  0.545\n"
          ]
        }
      ]
    },
    {
      "cell_type": "markdown",
      "source": [
        "Problem 10:"
      ],
      "metadata": {
        "id": "akcdZWoZjbkj"
      }
    },
    {
      "cell_type": "code",
      "source": [
        "def generate_with_noise():\n",
        "  X = []\n",
        "  Y = []\n",
        "  X = np.random.uniform(-1.0, 1.0, (1000, 2))\n",
        "  Y = np.array([classify_nonlinear(point) for point in X])\n",
        "  noise_indices = np.random.choice(len(Y), 100, replace=False)\n",
        "  Y[noise_indices] = -Y[noise_indices]\n",
        "  x1 = X[:, 0]\n",
        "  x2 = X[:, 1]\n",
        "  bias = np.ones(X.shape[0])\n",
        "  X_transformed = np.column_stack((bias, x1, x2, x1 * x2, x1 ** 2, x2 ** 2))\n",
        "  return X_transformed, Y\n",
        "\n",
        "error_total = 0\n",
        "\n",
        "for _ in range(1000):\n",
        "  x_trans, y_noise = generate_with_noise()\n",
        "  error_total += find_error(x_trans, y_noise, h1)\n",
        "\n",
        "print(error_total / 1000)"
      ],
      "metadata": {
        "colab": {
          "base_uri": "https://localhost:8080/"
        },
        "id": "LoqPeJ_cjcnG",
        "outputId": "7056de0c-89cc-4dab-d33a-c539d1332e58"
      },
      "execution_count": null,
      "outputs": [
        {
          "output_type": "stream",
          "name": "stdout",
          "text": [
            "0.14300700000000027\n"
          ]
        }
      ]
    }
  ]
}