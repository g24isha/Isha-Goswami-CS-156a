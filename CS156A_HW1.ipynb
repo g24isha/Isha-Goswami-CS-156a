{
  "nbformat": 4,
  "nbformat_minor": 0,
  "metadata": {
    "colab": {
      "provenance": []
    },
    "kernelspec": {
      "name": "python3",
      "display_name": "Python 3"
    },
    "language_info": {
      "name": "python"
    }
  },
  "cells": [
    {
      "cell_type": "markdown",
      "source": [
        "Problems 7 and 8:"
      ],
      "metadata": {
        "id": "eNtg-MGde1de"
      }
    },
    {
      "cell_type": "code",
      "execution_count": null,
      "metadata": {
        "id": "QpuDYICBEML2"
      },
      "outputs": [],
      "source": [
        "import random\n",
        "import numpy as np\n",
        "\n",
        "def rand_func():\n",
        "  x1 = random.uniform(-1.0, 1.0)\n",
        "  x2 = random.uniform(-1.0, 1.0)\n",
        "  y1 = random.uniform(-1.0, 1.0)\n",
        "  y2 = random.uniform(-1.0, 1.0)\n",
        "  m = (y2 - y1) / (x2 - x1)\n",
        "  b = y1 - m * x1\n",
        "  return m, b\n",
        "\n",
        "\n",
        "\n",
        "def classify_point(point, m, b):\n",
        "    x, y = point\n",
        "    if y > m * x + b:\n",
        "      return 1\n",
        "    if y == m * x + b:\n",
        "      return 0\n",
        "    return -1\n",
        "\n",
        "\n",
        "def PLA(weights, X, Y):\n",
        "  iterations = 0\n",
        "  while iterations < 10000:\n",
        "    misclassified = []\n",
        "    for i, point in enumerate(X):\n",
        "      x_vals = np.array([point[0], point[1], 1])\n",
        "      if np.sign(np.dot(weights, x_vals)) != Y[i]:\n",
        "        misclassified.append(i)\n",
        "\n",
        "    if len(misclassified) == 0:\n",
        "      break\n",
        "\n",
        "    idx = np.random.choice(misclassified)\n",
        "    x_val1 = np.array([X[idx][0], X[idx][1], 1])\n",
        "    weights += Y[idx] * x_val1\n",
        "    iterations += 1\n",
        "  return iterations, weights\n",
        "\n"
      ]
    },
    {
      "cell_type": "code",
      "source": [
        "N = 10\n",
        "\n",
        "iterations = 0\n",
        "max_iter = 10000\n",
        "weights = np.zeros(3)\n",
        "weights[2] = 1\n",
        "\n",
        "disagreement = 0\n",
        "avg_iter = 0\n",
        "\n",
        "for _ in range(1000):\n",
        "  m, b = rand_func()\n",
        "  X = []\n",
        "  Y = []\n",
        "  for _ in range(N):\n",
        "    x = random.uniform(-1.0, 1.0)\n",
        "    y = random.uniform(-1.0, 1.0)\n",
        "    X.append([x, y])\n",
        "    Y.append(classify_point([x, y], m, b))\n",
        "  iterations, weights = PLA(weights, X, Y)\n",
        "  avg_iter += iterations\n",
        "  point = np.random.uniform(-1, 1, 2)\n",
        "  f_label = classify_point(point, m, b)\n",
        "  g_label = np.sign(np.dot(weights, np.array([point[0], point[1], 1])))\n",
        "  if f_label != g_label:\n",
        "      disagreement += 1\n",
        "\n",
        "print(\"Disagreement for N = 10: \", disagreement / 1000)\n",
        "print(\"Average iterations for N = 10: \", avg_iter / 1000)"
      ],
      "metadata": {
        "colab": {
          "base_uri": "https://localhost:8080/"
        },
        "id": "fYra0F26gxvY",
        "outputId": "c36bdb43-cee9-4ecf-93c6-3202d90c9ba4"
      },
      "execution_count": null,
      "outputs": [
        {
          "output_type": "stream",
          "name": "stdout",
          "text": [
            "Disagreement for N = 10:  0.091\n",
            "Average iterations for N = 10:  7.025\n"
          ]
        }
      ]
    },
    {
      "cell_type": "markdown",
      "source": [
        "Problems 9 and 10:"
      ],
      "metadata": {
        "id": "pg1s__tTfDFw"
      }
    },
    {
      "cell_type": "code",
      "source": [
        "N = 100\n",
        "\n",
        "iterations = 0\n",
        "max_iter = 10000\n",
        "weights = np.zeros(3)\n",
        "weights[2] = 1\n",
        "\n",
        "disagreement = 0\n",
        "avg_iter = 0\n",
        "\n",
        "for _ in range(1000):\n",
        "  m, b = rand_func()\n",
        "  X = []\n",
        "  Y = []\n",
        "  for _ in range(N):\n",
        "    x = random.uniform(-1.0, 1.0)\n",
        "    y = random.uniform(-1.0, 1.0)\n",
        "    X.append([x, y])\n",
        "    Y.append(classify_point([x, y], m, b))\n",
        "  iterations, weights = PLA(weights, X, Y)\n",
        "  avg_iter += iterations\n",
        "  point = np.random.uniform(-1, 1, 2)\n",
        "  f_label = classify_point(point, m, b)\n",
        "  g_label = np.sign(np.dot(weights, np.array([point[0], point[1], 1])))\n",
        "  if f_label != g_label:\n",
        "      disagreement += 1\n",
        "\n",
        "print(\"Disagreement for N = 100: \", disagreement / 1000)\n",
        "print(\"Average iterations for N = 100: \", avg_iter / 1000)"
      ],
      "metadata": {
        "colab": {
          "base_uri": "https://localhost:8080/"
        },
        "id": "_mxNSUsJTDBh",
        "outputId": "58f67359-c50f-4d87-ccc5-e96c459b7df3"
      },
      "execution_count": null,
      "outputs": [
        {
          "output_type": "stream",
          "name": "stdout",
          "text": [
            "Disagreement for N = 100:  0.02\n",
            "Average iterations for N = 100:  96.439\n"
          ]
        }
      ]
    }
  ]
}