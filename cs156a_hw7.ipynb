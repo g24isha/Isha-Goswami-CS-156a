{
  "cells": [
    {
      "cell_type": "markdown",
      "metadata": {
        "id": "_kixiNgvGvWE"
      },
      "source": [
        "Problem 1:"
      ]
    },
    {
      "cell_type": "code",
      "execution_count": null,
      "metadata": {
        "colab": {
          "base_uri": "https://localhost:8080/"
        },
        "id": "xAsVSqGRGQpT",
        "outputId": "4bda2e17-28f9-43ca-afe3-1368b5d41379"
      },
      "outputs": [
        {
          "output_type": "stream",
          "name": "stdout",
          "text": [
            "k = 3:  0.3\n",
            "k = 4:  0.5\n",
            "k = 5:  0.2\n",
            "k = 6:  0.0\n",
            "k = 7:  0.1\n"
          ]
        }
      ],
      "source": [
        "import pandas as pd\n",
        "import numpy as np\n",
        "\n",
        "def transform_points(data):\n",
        "  x1 = data[:, 0]\n",
        "  x2 = data[:, 1]\n",
        "  transformed = np.column_stack((\n",
        "      np.ones(len(x1)),\n",
        "      x1,\n",
        "      x2,\n",
        "      x1**2,\n",
        "      x2**2,\n",
        "      x1 * x2,\n",
        "      np.abs(x1 - x2),\n",
        "      np.abs(x1 + x2)\n",
        "  ))\n",
        "  return transformed\n",
        "\n",
        "def model3(data):\n",
        "  x1 = data[:, 0]\n",
        "  x2 = data[:, 1]\n",
        "  transformed = np.column_stack((\n",
        "      np.ones(len(x1)),\n",
        "      x1,\n",
        "      x2,\n",
        "      x1**2\n",
        "  ))\n",
        "  return transformed\n",
        "\n",
        "def model4(data):\n",
        "  x1 = data[:, 0]\n",
        "  x2 = data[:, 1]\n",
        "  transformed = np.column_stack((\n",
        "      np.ones(len(x1)),\n",
        "      x1,\n",
        "      x2,\n",
        "      x1**2,\n",
        "      x2**2\n",
        "  ))\n",
        "  return transformed\n",
        "\n",
        "def model5(data):\n",
        "  x1 = data[:, 0]\n",
        "  x2 = data[:, 1]\n",
        "  transformed = np.column_stack((\n",
        "      np.ones(len(x1)),\n",
        "      x1,\n",
        "      x2,\n",
        "      x1**2,\n",
        "      x2**2,\n",
        "      x1 * x2\n",
        "  ))\n",
        "  return transformed\n",
        "\n",
        "def model6(data):\n",
        "  x1 = data[:, 0]\n",
        "  x2 = data[:, 1]\n",
        "  transformed = np.column_stack((\n",
        "      np.ones(len(x1)),\n",
        "      x1,\n",
        "      x2,\n",
        "      x1**2,\n",
        "      x2**2,\n",
        "      x1 * x2,\n",
        "      np.abs(x1 - x2)\n",
        "  ))\n",
        "  return transformed\n",
        "\n",
        "def linear_regression(data, Y):\n",
        "  transpose = data.T\n",
        "  inv = np.linalg.inv(np.dot(transpose, data))\n",
        "  w = np.dot(np.dot(inv, transpose), Y)\n",
        "  return w\n",
        "\n",
        "def find_error(X, Y, w):\n",
        "  Y_pred = np.sign(np.dot(X, w))\n",
        "  return np.sum(Y_pred != Y) / len(Y)\n",
        "\n",
        "train = np.loadtxt('in.dta.txt')[:25]\n",
        "validation = np.loadtxt('in.dta.txt')[25:]\n",
        "\n",
        "weights3 = linear_regression(model3(train), train[:, 2])\n",
        "weights4 = linear_regression(model4(train), train[:, 2])\n",
        "weights5 = linear_regression(model5(train), train[:, 2])\n",
        "weights6 = linear_regression(model6(train), train[:, 2])\n",
        "weights = linear_regression(transform_points(train), train[:, 2])\n",
        "\n",
        "model3_validation_error = find_error(model3(validation), validation[:, 2], weights3)\n",
        "model4_validation_error = find_error(model4(validation), validation[:, 2], weights4)\n",
        "model5_validation_error = find_error(model5(validation), validation[:, 2], weights5)\n",
        "model6_validation_error = find_error(model6(validation), validation[:, 2], weights6)\n",
        "validation_error = find_error(transform_points(validation), validation[:, 2], weights)\n",
        "\n",
        "\n",
        "print(\"k = 3: \", model3_validation_error)\n",
        "print(\"k = 4: \", model4_validation_error)\n",
        "print(\"k = 5: \", model5_validation_error)\n",
        "print(\"k = 6: \", model6_validation_error)\n",
        "print(\"k = 7: \", validation_error)"
      ]
    },
    {
      "cell_type": "markdown",
      "metadata": {
        "id": "BWQmuyXYJ93u"
      },
      "source": [
        "Problem 2:"
      ]
    },
    {
      "cell_type": "code",
      "execution_count": null,
      "metadata": {
        "colab": {
          "base_uri": "https://localhost:8080/"
        },
        "id": "RaNXZnADJ-77",
        "outputId": "c2c15ffe-1618-4908-f3dc-909da57bcd41"
      },
      "outputs": [
        {
          "output_type": "stream",
          "name": "stdout",
          "text": [
            "k = 3:  0.42\n",
            "k = 4:  0.416\n",
            "k = 5:  0.188\n",
            "k = 6:  0.084\n",
            "k = 7:  0.072\n"
          ]
        }
      ],
      "source": [
        "test = np.loadtxt('out.dta.txt')\n",
        "\n",
        "out3_error = find_error(model3(test), test[:, 2], weights3)\n",
        "out4_error = find_error(model4(test), test[:, 2], weights4)\n",
        "out5_error = find_error(model5(test), test[:, 2], weights5)\n",
        "out6_error = find_error(model6(test), test[:, 2], weights6)\n",
        "out_error = find_error(transform_points(test), test[:, 2], weights)\n",
        "\n",
        "\n",
        "print(\"k = 3: \", out3_error)\n",
        "print(\"k = 4: \", out4_error)\n",
        "print(\"k = 5: \", out5_error)\n",
        "print(\"k = 6: \", out6_error)\n",
        "print(\"k = 7: \", out_error)"
      ]
    },
    {
      "cell_type": "markdown",
      "metadata": {
        "id": "VxPLlCY2KjmU"
      },
      "source": [
        "Problem 3:"
      ]
    },
    {
      "cell_type": "code",
      "execution_count": null,
      "metadata": {
        "colab": {
          "base_uri": "https://localhost:8080/"
        },
        "id": "80IxlcjJKjHL",
        "outputId": "9f6b8a3a-f76d-48e8-c54c-56ee964da6e1"
      },
      "outputs": [
        {
          "output_type": "stream",
          "name": "stdout",
          "text": [
            "k = 3:  0.28\n",
            "k = 4:  0.36\n",
            "k = 5:  0.2\n",
            "k = 6:  0.08\n",
            "k = 7:  0.12\n"
          ]
        }
      ],
      "source": [
        "train = np.loadtxt('in.dta.txt')[25:]\n",
        "validation = np.loadtxt('in.dta.txt')[:25]\n",
        "\n",
        "weights3 = linear_regression(model3(train), train[:, 2])\n",
        "weights4 = linear_regression(model4(train), train[:, 2])\n",
        "weights5 = linear_regression(model5(train), train[:, 2])\n",
        "weights6 = linear_regression(model6(train), train[:, 2])\n",
        "weights = linear_regression(transform_points(train), train[:, 2])\n",
        "\n",
        "model3_validation_error = find_error(model3(validation), validation[:, 2], weights3)\n",
        "model4_validation_error = find_error(model4(validation), validation[:, 2], weights4)\n",
        "model5_validation_error = find_error(model5(validation), validation[:, 2], weights5)\n",
        "model6_validation_error = find_error(model6(validation), validation[:, 2], weights6)\n",
        "validation_error = find_error(transform_points(validation), validation[:, 2], weights)\n",
        "\n",
        "\n",
        "print(\"k = 3: \", model3_validation_error)\n",
        "print(\"k = 4: \", model4_validation_error)\n",
        "print(\"k = 5: \", model5_validation_error)\n",
        "print(\"k = 6: \", model6_validation_error)\n",
        "print(\"k = 7: \", validation_error)"
      ]
    },
    {
      "cell_type": "markdown",
      "metadata": {
        "id": "pUpciA_HLjYU"
      },
      "source": [
        "Problem 4:"
      ]
    },
    {
      "cell_type": "code",
      "execution_count": null,
      "metadata": {
        "colab": {
          "base_uri": "https://localhost:8080/"
        },
        "id": "0HE9u3JwLkL3",
        "outputId": "c7772498-582e-4687-bf2e-aa95cea99894"
      },
      "outputs": [
        {
          "output_type": "stream",
          "name": "stdout",
          "text": [
            "k = 3:  0.396\n",
            "k = 4:  0.388\n",
            "k = 5:  0.284\n",
            "k = 6:  0.192\n",
            "k = 7:  0.196\n"
          ]
        }
      ],
      "source": [
        "out3_error = find_error(model3(test), test[:, 2], weights3)\n",
        "out4_error = find_error(model4(test), test[:, 2], weights4)\n",
        "out5_error = find_error(model5(test), test[:, 2], weights5)\n",
        "out6_error = find_error(model6(test), test[:, 2], weights6)\n",
        "out_error = find_error(transform_points(test), test[:, 2], weights)\n",
        "\n",
        "\n",
        "print(\"k = 3: \", out3_error)\n",
        "print(\"k = 4: \", out4_error)\n",
        "print(\"k = 5: \", out5_error)\n",
        "print(\"k = 6: \", out6_error)\n",
        "print(\"k = 7: \", out_error)"
      ]
    },
    {
      "cell_type": "markdown",
      "metadata": {
        "id": "wzli2UCrLxGI"
      },
      "source": [
        "Problem 5:"
      ]
    },
    {
      "cell_type": "code",
      "execution_count": null,
      "metadata": {
        "colab": {
          "base_uri": "https://localhost:8080/"
        },
        "id": "xN_VpABeLx7Q",
        "outputId": "e11b2693-f8c1-4024-f71e-7dab728e0e31"
      },
      "outputs": [
        {
          "output_type": "stream",
          "name": "stdout",
          "text": [
            "0.12457929201917949\n",
            "0.01788854381999832\n",
            "0.10917875251164944\n",
            "0.11627553482998906\n",
            "0.15849290204927158\n"
          ]
        }
      ],
      "source": [
        "#problem 1: 0.084, problem 3: 0.192\n",
        "final = np.array([0.084, 0.192])\n",
        "option1 = np.array([0, 0.1])\n",
        "option2 = np.array([0.1, 0.2])\n",
        "option3 = np.array([0.1, 0.3])\n",
        "option4 = np.array([0.2, 0.2])\n",
        "option5 = np.array([0.2, 0.3])\n",
        "print(np.linalg.norm(final - option1))\n",
        "print(np.linalg.norm(final - option2))\n",
        "print(np.linalg.norm(final - option3))\n",
        "print(np.linalg.norm(final - option4))\n",
        "print(np.linalg.norm(final - option5))"
      ]
    },
    {
      "cell_type": "markdown",
      "metadata": {
        "id": "hCPOGyI26AVO"
      },
      "source": [
        "Problem 8:"
      ]
    },
    {
      "cell_type": "code",
      "execution_count": null,
      "metadata": {
        "colab": {
          "base_uri": "https://localhost:8080/"
        },
        "id": "qnZ2eBoM6Bav",
        "outputId": "1ce5d9a5-f345-4788-ef98-70b30aa2ca12"
      },
      "outputs": [
        {
          "output_type": "stream",
          "name": "stdout",
          "text": [
            "0.608\n"
          ]
        }
      ],
      "source": [
        "from sklearn.svm import SVC\n",
        "import random\n",
        "\n",
        "\n",
        "def classify_point(point, m, b):\n",
        "    x, y = point\n",
        "    if y > m * x + b:\n",
        "      return 1\n",
        "    return -1\n",
        "\n",
        "def rand_func():\n",
        "    x1 = random.uniform(-1.0, 1.0)\n",
        "    x2 = random.uniform(-1.0, 1.0)\n",
        "    y1 = random.uniform(-1.0, 1.0)\n",
        "    y2 = random.uniform(-1.0, 1.0)\n",
        "    m = (y2 - y1) / (x2 - x1)\n",
        "    b = y1 - m * x1\n",
        "    return m, b\n",
        "\n",
        "def create_PLA_points(N):\n",
        "    m, b = rand_func()\n",
        "    X = np.random.uniform(-1.0, 1.0, (N, 2))\n",
        "    Y = np.array([classify_point(point, m, b) for point in X])\n",
        "    if len(set(Y)) < 2:\n",
        "        return create_PLA_points(N)\n",
        "    return X, Y, m, b\n",
        "\n",
        "def PLA(weights, X, Y):\n",
        "    iterations = 0\n",
        "    while iterations < 10000:\n",
        "        misclassified = []\n",
        "        for i, point in enumerate(X):\n",
        "            if np.sign(np.dot(weights, point)) != Y[i]:\n",
        "                misclassified.append(i)\n",
        "        if len(misclassified) == 0:\n",
        "            break\n",
        "        idx = np.random.choice(misclassified)\n",
        "        weights += Y[idx] * X[idx]\n",
        "        iterations += 1\n",
        "    return weights\n",
        "\n",
        "def find_error(m, b, X_test, Y_test, w=None, model=None):\n",
        "    if model:\n",
        "        Y_pred = model.predict(X_test)\n",
        "    else:\n",
        "        X_test_with_bias = np.hstack((np.ones((X_test.shape[0], 1)), X_test))\n",
        "        Y_pred = np.sign(np.dot(X_test_with_bias, w))\n",
        "    return np.mean(Y_pred != Y_test)\n",
        "\n",
        "svm_better = 0\n",
        "for _ in range(1000):\n",
        "    X, Y, m, b = create_PLA_points(10)\n",
        "    X_with_bias = np.hstack((np.ones((X.shape[0], 1)), X))\n",
        "    weights = np.zeros(X_with_bias.shape[1])\n",
        "    weights = PLA(weights, X_with_bias, Y)\n",
        "    X_test = np.random.uniform(-1, 1, (1000, 2))\n",
        "    Y_test = np.array([classify_point(point, m, b) for point in X_test])\n",
        "    error = find_error(m, b, X_test, Y_test, w=weights)\n",
        "    clf = SVC(kernel=\"linear\", C=10**10)\n",
        "    clf.fit(X, Y)\n",
        "    svm_error = find_error(m, b, X_test, Y_test, model=clf)\n",
        "\n",
        "    if svm_error < error:\n",
        "        svm_better += 1\n",
        "\n",
        "print(svm_better / 1000)"
      ]
    },
    {
      "cell_type": "markdown",
      "metadata": {
        "id": "RJjaIQIW28uo"
      },
      "source": [
        "Problems 9 and 10:"
      ]
    },
    {
      "cell_type": "code",
      "execution_count": null,
      "metadata": {
        "colab": {
          "base_uri": "https://localhost:8080/"
        },
        "id": "QVercVIl2-Re",
        "outputId": "bd8c18d9-6e2b-45b5-bbc0-8078c8a02b0c"
      },
      "outputs": [
        {
          "output_type": "stream",
          "name": "stdout",
          "text": [
            "0.576\n",
            "2.995\n"
          ]
        }
      ],
      "source": [
        "svm_better2 = 0\n",
        "total_SV = 0\n",
        "for _ in range(1000):\n",
        "    X, Y, m, b = create_PLA_points(100)\n",
        "    X_with_bias = np.hstack((np.ones((X.shape[0], 1)), X))\n",
        "    weights = np.zeros(X_with_bias.shape[1])\n",
        "    weights = PLA(weights, X_with_bias, Y)\n",
        "    X_test = np.random.uniform(-1, 1, (1000, 2))\n",
        "    Y_test = np.array([classify_point(point, m, b) for point in X_test])\n",
        "    error = find_error(m, b, X_test, Y_test, w=weights)\n",
        "    clf = SVC(kernel=\"linear\", C=10**10)\n",
        "    clf.fit(X, Y)\n",
        "    svm_error = find_error(m, b, X_test, Y_test, model=clf)\n",
        "\n",
        "    if svm_error < error:\n",
        "        svm_better2 += 1\n",
        "    total_SV += len(clf.support_vectors_)\n",
        "\n",
        "print(svm_better2 / 1000)\n",
        "print(total_SV/1000)"
      ]
    }
  ],
  "metadata": {
    "colab": {
      "provenance": []
    },
    "kernelspec": {
      "display_name": "Python 3",
      "name": "python3"
    },
    "language_info": {
      "name": "python"
    }
  },
  "nbformat": 4,
  "nbformat_minor": 0
}